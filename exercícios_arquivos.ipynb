{
  "nbformat": 4,
  "nbformat_minor": 0,
  "metadata": {
    "colab": {
      "provenance": [],
      "authorship_tag": "ABX9TyPf+uFTY/zBkl9bof4iaN+d",
      "include_colab_link": true
    },
    "kernelspec": {
      "name": "python3",
      "display_name": "Python 3"
    },
    "language_info": {
      "name": "python"
    }
  },
  "cells": [
    {
      "cell_type": "markdown",
      "metadata": {
        "id": "view-in-github",
        "colab_type": "text"
      },
      "source": [
        "<a href=\"https://colab.research.google.com/github/DemetrioJMartins/ada_tech_santander_coders/blob/main/exerc%C3%ADcios_arquivos.ipynb\" target=\"_parent\"><img src=\"https://colab.research.google.com/assets/colab-badge.svg\" alt=\"Open In Colab\"/></a>"
      ]
    },
    {
      "cell_type": "markdown",
      "source": [
        "1) Escreva um código que lê um arquivo de texto contendo uma série de números separados por quebra de linha (```'\\n'```) e os adiciona a uma lista. Imprima a lista na tela."
      ],
      "metadata": {
        "id": "XJ-2qpodv2fr"
      }
    },
    {
      "cell_type": "code",
      "execution_count": null,
      "metadata": {
        "id": "yM7D_t_0v0cw"
      },
      "outputs": [],
      "source": [
        "arquivo = open(\"numeros.txt\", 'x')\n",
        "arquivo.write('1\\n2\\n3\\n4')\n",
        "arquivo.close()"
      ]
    },
    {
      "cell_type": "code",
      "source": [
        "arquivo = open('numeros.txt', 'r')\n",
        "conteudo = arquivo.read()\n",
        "arquivo.close()\n",
        "print(conteudo.split('\\n'))"
      ],
      "metadata": {
        "colab": {
          "base_uri": "https://localhost:8080/"
        },
        "id": "BdijarsOxDGc",
        "outputId": "47e5a951-a517-4a77-a2e6-78c903f25334"
      },
      "execution_count": null,
      "outputs": [
        {
          "output_type": "stream",
          "name": "stdout",
          "text": [
            "['1', '2', '3', '4']\n"
          ]
        }
      ]
    },
    {
      "cell_type": "markdown",
      "source": [
        "2) Escreva um programa que lê um arquivo de texto contendo uma série de números inteiros separados por quebra de linha (```\\n```) e escreva na tela o somatório dos números."
      ],
      "metadata": {
        "id": "CCXO-AN3v7VM"
      }
    },
    {
      "cell_type": "code",
      "source": [
        "conteudo_lista = conteudo.split('\\n')\n",
        "conteudo_lista = map(int, conteudo_lista)\n",
        "sum(conteudo_lista)"
      ],
      "metadata": {
        "colab": {
          "base_uri": "https://localhost:8080/"
        },
        "id": "42V_pQ0yv9o4",
        "outputId": "73465c78-8995-4086-91ec-84ad896f8b50"
      },
      "execution_count": null,
      "outputs": [
        {
          "output_type": "execute_result",
          "data": {
            "text/plain": [
              "10"
            ]
          },
          "metadata": {},
          "execution_count": 17
        }
      ]
    },
    {
      "cell_type": "markdown",
      "source": [
        "3) Crie uma função que cheque se um número inteiro é primo (divisível por apenas 1 e por ele mesmo) ou não.\n",
        "- Se for primo retornar \"primo\"\n",
        "- Caso contrário, retorne \"não-primo\""
      ],
      "metadata": {
        "id": "2so4OHM3v-OD"
      }
    },
    {
      "cell_type": "code",
      "source": [
        "def is_primo(numero):\n",
        "  for numero_dividir in range(2,numero):\n",
        "    if numero % numero_dividir == 0:\n",
        "      return 'Não primo'\n",
        "    return 'Primo'\n",
        "\n",
        "is_primo(4)"
      ],
      "metadata": {
        "colab": {
          "base_uri": "https://localhost:8080/",
          "height": 36
        },
        "id": "qQGWrr1vwB7_",
        "outputId": "a12d6d0d-616d-48bb-aa4a-72408db7f813"
      },
      "execution_count": null,
      "outputs": [
        {
          "output_type": "execute_result",
          "data": {
            "text/plain": [
              "'Não primo'"
            ],
            "application/vnd.google.colaboratory.intrinsic+json": {
              "type": "string"
            }
          },
          "metadata": {},
          "execution_count": 4
        }
      ]
    },
    {
      "cell_type": "markdown",
      "source": [
        "4) Escreva um programa que lê um arquivo de texto contendo uma série de números separados por quebra de linha (```\\n```). Crie um novo arquivo onde você irá escrever \"primo\" ou \"não-primo\" na linha correspondente a cada número.\n",
        "\n",
        "- Importante: Além dos argumento que já passamos comumente para o open(), passe o argumento 'utf-8' para parâmetro encoding dentro do open()."
      ],
      "metadata": {
        "id": "aKmfltWawFRQ"
      }
    },
    {
      "cell_type": "code",
      "source": [
        "novo_arquivo = open('numero_primo.txt', 'w+', encoding = 'utf-8')\n",
        "\n",
        "for elemento in conteudo_lista:\n",
        "  avaliacao = is_primo(elemento)\n",
        "  novo_arquivo.write(avaliacao + ' ' + str(elemento) + '\\n')\n",
        "\n",
        "novo_arquivo.close()"
      ],
      "metadata": {
        "id": "vCPh-u89wGAN"
      },
      "execution_count": null,
      "outputs": []
    },
    {
      "cell_type": "code",
      "source": [],
      "metadata": {
        "id": "OqyqoyHZtXrQ"
      },
      "execution_count": null,
      "outputs": []
    },
    {
      "cell_type": "markdown",
      "source": [
        "5) Faça um código que pede para o usuário digitar a quantidade de provas aplicadas, a quantidade de alunos em uma turma e cada uma das notas.\n",
        "\n",
        "- O seu programa deverá salvar apenas as notas digitadas em um arquivo CSV onde cada linha representa um aluno e cada coluna é uma nota da prova."
      ],
      "metadata": {
        "id": "BHQuKOcIviQ8"
      }
    },
    {
      "cell_type": "code",
      "source": [
        "import csv"
      ],
      "metadata": {
        "id": "EFvokX5qyyzW"
      },
      "execution_count": null,
      "outputs": []
    },
    {
      "cell_type": "code",
      "source": [
        "n_provas = int(input(\"Digite o numero de provas: \"))\n",
        "n_alunos = int(input(\"Digite o numero de alunos: \"))\n",
        "tabela = []\n",
        "\n",
        "for aluno in range(n_alunos):\n",
        "  notas_aluno = []\n",
        "  for provas in range(n_provas):\n",
        "    notas = float(input(f\"Digite a nota de numero {provas} do aluno de numero {aluno}: \"))\n",
        "    notas_aluno.append(notas)\n",
        "  tabela.append(notas_aluno)\n"
      ],
      "metadata": {
        "colab": {
          "base_uri": "https://localhost:8080/"
        },
        "id": "aGeWQ7CjvjGv",
        "outputId": "cec6b59a-7c14-4b78-8006-df06c2f7f915"
      },
      "execution_count": null,
      "outputs": [
        {
          "name": "stdout",
          "output_type": "stream",
          "text": [
            "Digite o numero de provas: 2\n",
            "Digite o numero de alunos: 2\n",
            "Digite a nota de numero 0 do aluno de numero 0: 10\n",
            "Digite a nota de numero 1 do aluno de numero 0: 9\n",
            "Digite a nota de numero 0 do aluno de numero 1: 8\n",
            "Digite a nota de numero 1 do aluno de numero 1: 7\n"
          ]
        }
      ]
    },
    {
      "cell_type": "code",
      "source": [
        "arquivo = open('notas.csv', 'w')\n",
        "escritor = csv.writer(arquivo, delimiter = ',', lineterminator = '\\n')\n",
        "escritor.writerows(tabela)\n",
        "arquivo.close()"
      ],
      "metadata": {
        "id": "Wx3r6wCu59t9"
      },
      "execution_count": null,
      "outputs": []
    },
    {
      "cell_type": "markdown",
      "source": [
        "6) Faça um programa que carrega um arquivo CSV de notas (como o gerado pelo exercício anterior) e pede para o usuário digitar a nota mínima para aprovação. Ele deverá gerar um novo arquivo contendo as notas originais e 2 colunas adicionais: A média de cada aluno na primeira (com 2 casas decimais) e \"APR\" ou \"REP\" na segunda, indicando se a média atingiu o valor mínimo ou não.\n",
        "\n",
        "- Para arredondar, pode utilizar a função round()"
      ],
      "metadata": {
        "id": "MqJHmM-YvkmT"
      }
    },
    {
      "cell_type": "code",
      "source": [
        "arquivo = open('notas.csv', 'r')\n",
        "leitor = csv.reader(arquivo, delimiter = ',', lineterminator = '\\n')\n",
        "\n",
        "tabela_notas_alunos = []\n",
        "for linha in leitor:\n",
        "  tabela_notas_alunos.append(list(map(float,linha)))\n",
        "\n",
        "arquivo.close()\n",
        "\n",
        "nota_minima = float(input(\"digite a nota mínima para aprovação: \"))\n",
        "aluno = []\n",
        "\n",
        "for aluno in tabela_notas_alunos:\n",
        "  soma = 0\n",
        "  for nota in aluno:\n",
        "    soma += nota\n",
        "  media = round(soma/len(aluno),2)\n",
        "  print(media)\n",
        "  aluno.append(media)\n",
        "  if media >= nota_minima:\n",
        "    aluno.append(\"APR\")\n",
        "  else:\n",
        "    aluno.append(\"REP\")\n",
        "\n",
        "print(tabela_notas_alunos)\n",
        "\n",
        "arquivo = open('resultado_notas.csv', 'w')\n",
        "escritor = csv.writer(arquivo, delimiter = ',', lineterminator = '\\n')\n",
        "\n",
        "escritor.writerows(tabela_notas_alunos)\n",
        "\n",
        "arquivo.close()"
      ],
      "metadata": {
        "colab": {
          "base_uri": "https://localhost:8080/"
        },
        "id": "iTDZ-Ls_AX-i",
        "outputId": "c5243e15-2ef1-483a-e0b6-ed12ea529f21"
      },
      "execution_count": null,
      "outputs": [
        {
          "output_type": "stream",
          "name": "stdout",
          "text": [
            "digite a nota mínima para aprovação8\n",
            "9.5\n",
            "7.5\n",
            "[[10.0, 9.0, 9.5, 'APR'], [8.0, 7.0, 7.5, 'REP']]\n"
          ]
        }
      ]
    }
  ]
}