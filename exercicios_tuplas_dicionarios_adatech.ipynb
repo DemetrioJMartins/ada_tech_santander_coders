{
  "nbformat": 4,
  "nbformat_minor": 0,
  "metadata": {
    "colab": {
      "provenance": [],
      "authorship_tag": "ABX9TyPrSwZAkF2gxFMK9T4I4Nnk",
      "include_colab_link": true
    },
    "kernelspec": {
      "name": "python3",
      "display_name": "Python 3"
    },
    "language_info": {
      "name": "python"
    }
  },
  "cells": [
    {
      "cell_type": "markdown",
      "metadata": {
        "id": "view-in-github",
        "colab_type": "text"
      },
      "source": [
        "<a href=\"https://colab.research.google.com/github/DemetrioJMartins/ada_tech_santander_coders/blob/main/exercicios_tuplas_dicionarios_adatech.ipynb\" target=\"_parent\"><img src=\"https://colab.research.google.com/assets/colab-badge.svg\" alt=\"Open In Colab\"/></a>"
      ]
    },
    {
      "cell_type": "markdown",
      "source": [
        "1) Crie um dicionário para as seguintes relações:\n",
        "\n",
        "<center>\n",
        "\n",
        ". |  |\n",
        "--- | --- |\n",
        "banana| 3.0 |\n",
        "cebola | 4.0 |\n",
        "maçã | 5.7\n",
        "abacaxi | 8.0\n",
        "\n",
        "\n",
        "</center>}"
      ],
      "metadata": {
        "id": "NVepupif-KX8"
      }
    },
    {
      "cell_type": "code",
      "source": [
        "feira = {\n",
        "    'banana' : 3.0,\n",
        "    'cebola' : 4.0,\n",
        "    'maçã' : 5.7,\n",
        "    'abacaxi' : 8.0\n",
        "}\n",
        "for fruta, preço in feira.items():\n",
        "  print(fruta,preço)"
      ],
      "metadata": {
        "colab": {
          "base_uri": "https://localhost:8080/"
        },
        "id": "hDsfdNCs-NUJ",
        "outputId": "40bb3b22-e6db-4f46-ddd9-327e71f8ca28"
      },
      "execution_count": null,
      "outputs": [
        {
          "output_type": "stream",
          "name": "stdout",
          "text": [
            "banana 3.0\n",
            "cebola 4.0\n",
            "maçã 5.7\n",
            "abacaxi 8.0\n"
          ]
        }
      ]
    },
    {
      "cell_type": "markdown",
      "source": [
        "2) Altere o valor da chave ‘Maçã’ no dicionário do exercício anterior para 8.6."
      ],
      "metadata": {
        "id": "vL68yXuY-OuY"
      }
    },
    {
      "cell_type": "code",
      "source": [
        "feira['maçã'] = 8.6\n",
        "\n",
        "feira"
      ],
      "metadata": {
        "colab": {
          "base_uri": "https://localhost:8080/"
        },
        "id": "tQdUOtnu-V9a",
        "outputId": "691fc64b-ded0-4e0b-a525-f83ad655b2dd"
      },
      "execution_count": null,
      "outputs": [
        {
          "output_type": "execute_result",
          "data": {
            "text/plain": [
              "{'banana': 3.0, 'cebola': 4.0, 'maçã': 8.6, 'abacaxi': 8.0}"
            ]
          },
          "metadata": {},
          "execution_count": 9
        }
      ]
    },
    {
      "cell_type": "markdown",
      "source": [
        "3) Faça um código que conte quantas vezes cada elemento aparece em uma lista. Essa função deverá guardar os dados em um dicionário no qual as chaves são os elementos inseridos e os valores são a contagem de quantas vezes esse elemento aparece. ex de output: {\"banana\":2, \"maçã\":1}"
      ],
      "metadata": {
        "id": "vIBxF3Ha-WoN"
      }
    },
    {
      "cell_type": "code",
      "source": [
        "lista = ['maçã', 'banana','banana']\n",
        "contagem = {}\n",
        "\n",
        "for fruta in lista:\n",
        "  if fruta not in contagem.keys():\n",
        "    contagem[fruta] = 1\n",
        "  else:\n",
        "    contagem[fruta] += 1\n",
        "\n",
        "contagem\n"
      ],
      "metadata": {
        "colab": {
          "base_uri": "https://localhost:8080/"
        },
        "id": "n5Zp0_uG-Zn6",
        "outputId": "5a51fc25-0c7a-4018-8966-a90639fb7097"
      },
      "execution_count": null,
      "outputs": [
        {
          "output_type": "execute_result",
          "data": {
            "text/plain": [
              "{'maçã': 1, 'banana': 2}"
            ]
          },
          "metadata": {},
          "execution_count": 23
        }
      ]
    },
    {
      "cell_type": "markdown",
      "source": [
        "4) Faça  um  código que  receba  múltiplos\n",
        "números inteiros em seguida informe quantos são pares e quantos são ímpares."
      ],
      "metadata": {
        "id": "vcgWcGnm-ajU"
      }
    },
    {
      "cell_type": "code",
      "source": [
        "numeros = (3 , 5 ,45 ,543, 442, 4434, 243, 2 , 1)\n",
        "\n",
        "par_impar = {'par': 0 , 'impar': 0}\n",
        "\n",
        "for numero in numeros:\n",
        "  if numero %2 == 0:\n",
        "    par_impar['par'] += 1\n",
        "  else:\n",
        "    par_impar['impar'] += 1\n",
        "\n",
        "par_impar"
      ],
      "metadata": {
        "colab": {
          "base_uri": "https://localhost:8080/"
        },
        "id": "9fNNyXyj-eGg",
        "outputId": "dc5c2b94-dbab-41f8-bb64-9e0e21ebe97b"
      },
      "execution_count": null,
      "outputs": [
        {
          "output_type": "execute_result",
          "data": {
            "text/plain": [
              "{'par': 3, 'impar': 6}"
            ]
          },
          "metadata": {},
          "execution_count": 24
        }
      ]
    },
    {
      "cell_type": "markdown",
      "source": [
        "5) faça um código que recebe um elemento a ser encontrado no texto e substitui por outro elemento\n",
        "\n",
        "- pode utilizar o .replace()"
      ],
      "metadata": {
        "id": "l0hla4U7-iLN"
      }
    },
    {
      "cell_type": "code",
      "source": [
        "texto = input('Coloque seu texto aqui: ')\n",
        "\n",
        "antiga = input('Escreva o que deseja substituir: ')\n",
        "nova = input('Escreva o que deseja por no lugar: ')\n",
        "\n",
        "texto.replace(antiga, nova)"
      ],
      "metadata": {
        "colab": {
          "base_uri": "https://localhost:8080/",
          "height": 88
        },
        "id": "kM4HFUxl-i4u",
        "outputId": "e8e80fae-8fc7-41ef-dee8-2fd4992485a8"
      },
      "execution_count": null,
      "outputs": [
        {
          "name": "stdout",
          "output_type": "stream",
          "text": [
            "Coloque seu texto aqui: Meu nome é Demetrio, tenho 27 anos, moro em Guarulhos\n",
            "Escreva o que deseja substituir: Demetrio\n",
            "Escreva o que deseja por no lugar: Letícia\n"
          ]
        },
        {
          "output_type": "execute_result",
          "data": {
            "text/plain": [
              "'Meu nome é Letícia, tenho 27 anos, moro em Guarulhos'"
            ],
            "application/vnd.google.colaboratory.intrinsic+json": {
              "type": "string"
            }
          },
          "metadata": {},
          "execution_count": 27
        }
      ]
    },
    {
      "cell_type": "markdown",
      "source": [
        "6) Faça  um  código  contador  de\n",
        "palavras.  O  usuário  vai  inserir  um  texto  qualquer  e  o  programa  vai  contar  a\n",
        "quantidade de cada palavra no texto, armazenando o resultado em um dicionário\n",
        "e exibindo o resultado para o usuário.\n",
        "- caso queira pode utilizar o .split() e .replace()"
      ],
      "metadata": {
        "id": "Fx-2DDGf-kvZ"
      }
    },
    {
      "cell_type": "code",
      "source": [
        "texto1 = input('Digite seu texto: ')\n",
        "\n",
        "contador_palavras = {}\n",
        "\n",
        "texto_mod = texto1.split(' ')\n",
        "\n",
        "for i in texto_mod:\n",
        "  if i in contador_palavras:\n",
        "    contador_palavras[i] += 1\n",
        "  else:\n",
        "    contador_palavras[i] = 1\n",
        "\n",
        "print(contador_palavras)\n"
      ],
      "metadata": {
        "colab": {
          "base_uri": "https://localhost:8080/"
        },
        "id": "Gti-LJTN-nva",
        "outputId": "f576bed6-09a2-4193-ff83-3244b6bfde9b"
      },
      "execution_count": null,
      "outputs": [
        {
          "output_type": "stream",
          "name": "stdout",
          "text": [
            "Digite seu texto: aa bb aa cc dd\n",
            "{'aa': 2, 'bb': 1, 'cc': 1, 'dd': 1}\n"
          ]
        }
      ]
    },
    {
      "cell_type": "markdown",
      "source": [
        "7) Faça  um  código  para  criar  uma\n",
        "agenda telefônica. O programa deve armazenar o nome e um ou mais telefones\n",
        "do  contato.  Em  seguida,  o  usuário  vai  informar  o  nome  de  algum  contato\n",
        "armazenado e o programa deve retornar os número(s) do contato\n",
        "- caso queira pode utilizar o método .split()"
      ],
      "metadata": {
        "id": "UAe_nEPU-oRd"
      }
    },
    {
      "cell_type": "code",
      "source": [
        "nome = input('Digite o nome do contato: ')\n",
        "numero = input('Informe os numeros de contato separado por virgula: ')\n",
        "agenda ={}\n",
        "agenda[nome] = numero.split(',')\n",
        "\n",
        "print(agenda)"
      ],
      "metadata": {
        "id": "NUipZVFc-rD5",
        "colab": {
          "base_uri": "https://localhost:8080/"
        },
        "outputId": "14925846-94c2-48ff-8f6e-f4d3245f3a20"
      },
      "execution_count": null,
      "outputs": [
        {
          "output_type": "stream",
          "name": "stdout",
          "text": [
            "Digite o nome do contato: Demetrio\n",
            "Informe os numeros de contato separado por virgula: 970490855,34533985\n",
            "{'Demetrio': ['970490855', '34533985']}\n"
          ]
        }
      ]
    },
    {
      "cell_type": "code",
      "source": [],
      "metadata": {
        "id": "O_1KlclOURbq"
      },
      "execution_count": null,
      "outputs": []
    }
  ]
}