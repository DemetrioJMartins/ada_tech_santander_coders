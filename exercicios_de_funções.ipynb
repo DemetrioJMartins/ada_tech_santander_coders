{
  "nbformat": 4,
  "nbformat_minor": 0,
  "metadata": {
    "colab": {
      "provenance": [],
      "authorship_tag": "ABX9TyPrsc01IkFdqtpo6K9ERTGr",
      "include_colab_link": true
    },
    "kernelspec": {
      "name": "python3",
      "display_name": "Python 3"
    },
    "language_info": {
      "name": "python"
    }
  },
  "cells": [
    {
      "cell_type": "markdown",
      "metadata": {
        "id": "view-in-github",
        "colab_type": "text"
      },
      "source": [
        "<a href=\"https://colab.research.google.com/github/DemetrioJMartins/ada_tech_santander_coders/blob/main/exercicios_de_fun%C3%A7%C3%B5es.ipynb\" target=\"_parent\"><img src=\"https://colab.research.google.com/assets/colab-badge.svg\" alt=\"Open In Colab\"/></a>"
      ]
    },
    {
      "cell_type": "code",
      "execution_count": null,
      "metadata": {
        "id": "wSikgYUkqsQT"
      },
      "outputs": [],
      "source": []
    },
    {
      "cell_type": "markdown",
      "source": [
        "1) Faça uma função que recebe um texto e um letra e retorne a quantidade daquela letra naquele texto (ignore diferenças de capitalização, 'A' e 'a' são a mesma letra)"
      ],
      "metadata": {
        "id": "38Cx5qSxqx41"
      }
    },
    {
      "cell_type": "code",
      "source": [
        "texto = input('Digite seu texto: ')\n",
        "letra = input('Digite uma letra: ')\n",
        "\n",
        "def conta_letras(texto, letra):\n",
        "  texto = texto.lower()\n",
        "  letra = letra.lower()\n",
        "  conta = texto.count(letra)\n",
        "  return print(f'A letra {letra} apareceu {conta} vezes')\n",
        "\n",
        "conta_letras(texto, letra)"
      ],
      "metadata": {
        "colab": {
          "base_uri": "https://localhost:8080/"
        },
        "id": "mhLqfdosq2dT",
        "outputId": "c7d0bdf3-9048-47eb-b306-8e047fe06923"
      },
      "execution_count": 1,
      "outputs": [
        {
          "output_type": "stream",
          "name": "stdout",
          "text": [
            "Digite seu texto: ada tech\n",
            "Digite uma letra: e\n",
            "A letra e apareceu 1 vezes\n"
          ]
        }
      ]
    },
    {
      "cell_type": "markdown",
      "source": [],
      "metadata": {
        "id": "ICLtBQagq3hs"
      }
    },
    {
      "cell_type": "markdown",
      "source": [
        "2) Faça uma função que recebe uma string e retorna ela ao contrário."
      ],
      "metadata": {
        "id": "6EFCB2ikq3lS"
      }
    },
    {
      "cell_type": "code",
      "source": [
        "def stringAoContrario(texto):\n",
        "  texto = texto[::-1]\n",
        "  return texto\n",
        "\n",
        "texto = input('Digite seu texto aqui: ')\n",
        "\n",
        "stringAoContrario(texto)\n"
      ],
      "metadata": {
        "colab": {
          "base_uri": "https://localhost:8080/",
          "height": 53
        },
        "id": "OurAAnHLq9lU",
        "outputId": "62c38c03-b2fd-4390-b2fd-c0175c084838"
      },
      "execution_count": 24,
      "outputs": [
        {
          "name": "stdout",
          "output_type": "stream",
          "text": [
            "Digite seu texto aqui: demetrio\n"
          ]
        },
        {
          "output_type": "execute_result",
          "data": {
            "text/plain": [
              "'oirtemed'"
            ],
            "application/vnd.google.colaboratory.intrinsic+json": {
              "type": "string"
            }
          },
          "metadata": {},
          "execution_count": 24
        }
      ]
    },
    {
      "cell_type": "markdown",
      "source": [
        "3) Agora faça uma função que recebe uma palavra e diz se ela é um palíndromo, ou seja, se ela é igual a ela mesma ao contrário.\n",
        "\n",
        "Sugestão: use a função do exercício anterior."
      ],
      "metadata": {
        "id": "tqF0eCZ-q-LF"
      }
    },
    {
      "cell_type": "code",
      "source": [
        "def palindromo(string):\n",
        "  if string == stringAoContrario(string):\n",
        "    print(f'A frase ou palavra {string} é um palindromo')\n",
        "  else:\n",
        "    print(f'A frase ou palavra {string} não é um palindromo')\n",
        "\n",
        "string = input(\"Digite uma palavra ou frase para verificar se é um palindromo: \")\n",
        "\n",
        "palindromo(string)"
      ],
      "metadata": {
        "id": "Erip5voarC0m",
        "colab": {
          "base_uri": "https://localhost:8080/"
        },
        "outputId": "6c9d70a0-2cd1-4a61-8de0-8412ee22cf63"
      },
      "execution_count": 25,
      "outputs": [
        {
          "output_type": "stream",
          "name": "stdout",
          "text": [
            "Digite uma palavra ou frase para verificar se é um palindromo: ovo\n",
            "A frase ou palavra ovo é um palindromo\n"
          ]
        }
      ]
    },
    {
      "cell_type": "code",
      "source": [],
      "metadata": {
        "id": "pV0mD56jhBfz"
      },
      "execution_count": null,
      "outputs": []
    }
  ]
}